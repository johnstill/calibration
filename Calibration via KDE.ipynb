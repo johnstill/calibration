{
 "cells": [
  {
   "cell_type": "code",
   "execution_count": 1,
   "metadata": {},
   "outputs": [],
   "source": [
    "# Preamble\n",
    "%matplotlib inline\n",
    "import matplotlib.pyplot as plt\n",
    "import matplotlib as mpl\n",
    "import pandas as pd\n",
    "import numpy as np\n",
    "\n",
    "from sklearn.metrics import confusion_matrix, brier_score_loss\n",
    "from sklearn.neighbors import KernelDensity\n",
    "\n",
    "from utils import load_probs"
   ]
  },
  {
   "cell_type": "code",
   "execution_count": 2,
   "metadata": {},
   "outputs": [
    {
     "data": {
      "text/html": [
       "<div>\n",
       "<style scoped>\n",
       "    .dataframe tbody tr th:only-of-type {\n",
       "        vertical-align: middle;\n",
       "    }\n",
       "\n",
       "    .dataframe tbody tr th {\n",
       "        vertical-align: top;\n",
       "    }\n",
       "\n",
       "    .dataframe thead th {\n",
       "        text-align: right;\n",
       "    }\n",
       "</style>\n",
       "<table border=\"1\" class=\"dataframe\">\n",
       "  <thead>\n",
       "    <tr style=\"text-align: right;\">\n",
       "      <th>Classifier</th>\n",
       "      <th>LogisticRegression</th>\n",
       "      <th>GaussianNB</th>\n",
       "      <th>LinearSVC</th>\n",
       "      <th>RandomForestClassifier</th>\n",
       "      <th>SGDClassifier</th>\n",
       "      <th>KNeighborsClassifier</th>\n",
       "    </tr>\n",
       "  </thead>\n",
       "  <tbody>\n",
       "    <tr>\n",
       "      <th>0</th>\n",
       "      <td>0.979908</td>\n",
       "      <td>1.0</td>\n",
       "      <td>0.627873</td>\n",
       "      <td>1.0</td>\n",
       "      <td>0.626272</td>\n",
       "      <td>1.0</td>\n",
       "    </tr>\n",
       "    <tr>\n",
       "      <th>1</th>\n",
       "      <td>0.968832</td>\n",
       "      <td>1.0</td>\n",
       "      <td>0.574250</td>\n",
       "      <td>1.0</td>\n",
       "      <td>0.631219</td>\n",
       "      <td>1.0</td>\n",
       "    </tr>\n",
       "    <tr>\n",
       "      <th>2</th>\n",
       "      <td>0.972728</td>\n",
       "      <td>1.0</td>\n",
       "      <td>0.578030</td>\n",
       "      <td>1.0</td>\n",
       "      <td>0.629980</td>\n",
       "      <td>1.0</td>\n",
       "    </tr>\n",
       "    <tr>\n",
       "      <th>3</th>\n",
       "      <td>0.999986</td>\n",
       "      <td>1.0</td>\n",
       "      <td>0.775335</td>\n",
       "      <td>1.0</td>\n",
       "      <td>0.747994</td>\n",
       "      <td>1.0</td>\n",
       "    </tr>\n",
       "    <tr>\n",
       "      <th>4</th>\n",
       "      <td>0.815760</td>\n",
       "      <td>1.0</td>\n",
       "      <td>0.574944</td>\n",
       "      <td>1.0</td>\n",
       "      <td>0.549328</td>\n",
       "      <td>1.0</td>\n",
       "    </tr>\n",
       "  </tbody>\n",
       "</table>\n",
       "</div>"
      ],
      "text/plain": [
       "Classifier  LogisticRegression  GaussianNB  LinearSVC  RandomForestClassifier  \\\n",
       "0                     0.979908         1.0   0.627873                     1.0   \n",
       "1                     0.968832         1.0   0.574250                     1.0   \n",
       "2                     0.972728         1.0   0.578030                     1.0   \n",
       "3                     0.999986         1.0   0.775335                     1.0   \n",
       "4                     0.815760         1.0   0.574944                     1.0   \n",
       "\n",
       "Classifier  SGDClassifier  KNeighborsClassifier  \n",
       "0                0.626272                   1.0  \n",
       "1                0.631219                   1.0  \n",
       "2                0.629980                   1.0  \n",
       "3                0.747994                   1.0  \n",
       "4                0.549328                   1.0  "
      ]
     },
     "execution_count": 2,
     "metadata": {},
     "output_type": "execute_result"
    }
   ],
   "source": [
    "df_raw = pd.read_pickle('results.pkl')\n",
    "actual = df_raw.actual.copy()\n",
    "preds = df_raw.xs('Prediction', level='Method', axis=1)\n",
    "probs = df_raw.xs('Probability', level='Method', axis=1)\n",
    "probs.head()"
   ]
  }
 ],
 "metadata": {
  "kernelspec": {
   "display_name": "Python 3",
   "language": "python",
   "name": "python3"
  },
  "language_info": {
   "codemirror_mode": {
    "name": "ipython",
    "version": 3
   },
   "file_extension": ".py",
   "mimetype": "text/x-python",
   "name": "python",
   "nbconvert_exporter": "python",
   "pygments_lexer": "ipython3",
   "version": "3.6.5"
  }
 },
 "nbformat": 4,
 "nbformat_minor": 2
}
